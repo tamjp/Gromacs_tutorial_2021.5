{
 "cells": [
  {
   "cell_type": "code",
   "execution_count": null,
   "id": "596dbb58-51b0-4cde-82f9-0f1688db3978",
   "metadata": {},
   "outputs": [],
   "source": [
    "# Execute this first \n",
    "#\n",
    "#  * trigger notebook styling\n",
    "#  * check if notebook had been modified since its distribution\n",
    "# \n",
    "# Note: executing any cells before this modifies the notebook.\n",
    "# \n",
    "%run src/init_notebooks.py\n",
    "hide_toggle()\n",
    "check_notebook()"
   ]
  },
  {
   "cell_type": "markdown",
   "id": "8e4b288c-97de-4cf7-af5f-7056980179d2",
   "metadata": {},
   "source": [
    "## A Beginner's Guide to Perform Molecular Dynamics Simulation of a Membrane Protein using GROMACS"
   ]
  },
  {
   "cell_type": "markdown",
   "id": "8bcedf28-9422-43c1-afea-081b3ad9482b",
   "metadata": {},
   "source": [
    "**Authors  :** Farzaneh Jalalypour, Maryam Majdolhosseini, Alessandra Villa* \n",
    "\n",
    "**Goal     :** Learn step-by-step how to run a molecular dynamics simulation of a simple membrane protein using                   GROMACS\\\n",
    "**Reading time     :** 40 minutes\\\n",
    "**Software :** GROMACS 2023.2, python modules (numpy, matplotlib, nglviewer, MDTraj, and pandas)\\\n",
    "**Optional Software :** visualization software [VMD](https://www.ks.uiuc.edu/Research/vmd), Xmgrace plotting tool\\\n",
    "**Tutorial Source   :** tutorials.gromacs.org\\\n",
    "**Version           :** Final "
   ]
  },
  {
   "cell_type": "markdown",
   "id": "2ecec425-8e00-4391-b703-f4fde8de1f43",
   "metadata": {},
   "source": [
    "**Small talk with the audience**\n",
    "\n",
    "This tutorial is designed for beginner GROMACS users and assumes you understand the basics of MD simulations and are familiar with GROMACS files and how to generate and execute them. Don't worry if you are not yet acquainted. We have already developed an [\"Introduction to Molecular Dynamics\" tutorial](https://tutorials.gromacs.org/md-intro-tutorial.html) that covers all you need to know to get started with this one.\n",
    "\n",
    "Please note that this tutorial is for educational purposes and and won't go through every step in details. For your system, you must change the settings accordingly (see [GROMACS documentation](http://manual.gromacs.org/current/index.html)). "
   ]
  },
  {
   "cell_type": "markdown",
   "id": "80fc4675",
   "metadata": {},
   "source": [
    "## Preparations to run this notebook"
   ]
  },
  {
   "cell_type": "code",
   "execution_count": null,
   "id": "c0250eaa",
   "metadata": {},
   "outputs": [],
   "source": [
    "# Change to the data directory\n",
    "# Note that executing this command twice will result in an error you can ignore\n",
    "%cd data"
   ]
  },
  {
   "cell_type": "markdown",
   "id": "58a6ddee-92a1-4744-92a0-8e7148705a93",
   "metadata": {},
   "source": [
    "## Model system for this tutorial\n"
   ]
  },
  {
   "cell_type": "markdown",
   "id": "0b6d5339-d75c-4fb9-a174-1840c03cccf9",
   "metadata": {},
   "source": [
    "For this tutorial, we will utilize maltoporin channel, a trimeric protein located at the outer membrane of Gram-negative bacteria that facilitates the translocation of the polysaccharide maltodextrin. You can download the 3D structure of maltoporin channel (PDB code 1MAL) from RCSB website [https://www.rcsb.org/structure/1MAL](https://www.rcsb.org/structure/1MAL) or use the previously downloded file, \"1mal.pdb\" in the \"input\" directory."
   ]
  },
  {
   "cell_type": "markdown",
   "id": "4955cd8b-a94c-4408-a9b5-581257c98151",
   "metadata": {},
   "source": [
    "**Visualize the structure**"
   ]
  },
  {
   "cell_type": "code",
   "execution_count": null,
   "id": "15b823b0-85ba-4a48-944e-08e9f0dc2447",
   "metadata": {
    "tags": []
   },
   "outputs": [],
   "source": [
    "import nglview as ng\n",
    "view = ng.show_structure_file(\"input/1mal.pdb\")\n",
    "view\n",
    "#click and drag to rotate, zoom with your mouseweel \n",
    "#for more infor on this viewer have a look at https://github.com/nglviewer/nglview"
   ]
  },
  {
   "cell_type": "markdown",
   "id": "d119f39b-591d-457d-b63b-54c37ebc88c8",
   "metadata": {
    "tags": []
   },
   "source": [
    "## System preparation for this tutorial"
   ]
  },
  {
   "cell_type": "markdown",
   "id": "24bfbfa3-683e-4427-a617-6032de5e90c1",
   "metadata": {},
   "source": [
    "**Building the protein-membrane system in CHARMM-GUI**"
   ]
  },
  {
   "cell_type": "markdown",
   "id": "d7e646c2-b383-4376-841a-ddf1e5d41d4b",
   "metadata": {},
   "source": [
    "We are now ready to embed the protein structure in the membrane in the proper location and orientation and construct the membrane composition we desire. To do this, we utilized the CHARMM-GUI input Generator, a handy web-based tool to generate GROMACS inputs for the protein-membrane system. In order to access CHARMM-GUI (http://www.charmm-gui.org), a web browser such as Chrome, Firefox, etc. is required. \n",
    "\n",
    "In this Tutorial, rather than providing an in-depth discussion of how to create input via CHARMM-GUI, we will focus on how to perform a correct simulation using GROMACS. However, you can find useful information on [Membrane Builder Intro](https://charmm-gui.org/?doc=tutorial&project=membrane&chapter=membrane_intro) and in this [Membrane Proteins\n",
    "Tutorial](https://www.ks.uiuc.edu/Training/Tutorials/science/membrane2/memprot2-tutorial.pdf) .\n"
   ]
  },
  {
   "cell_type": "markdown",
   "id": "c6de3ffc-d9a4-48b9-8018-19930a4eea35",
   "metadata": {},
   "source": [
    "CHARMM-GUI generates all required input files as a zip file. You can unzip the file using the command below, or directly use the previously unzipped folder named \"charmm-gui-1MAL\". This folder contains a diverse set of files."
   ]
  },
  {
   "cell_type": "code",
   "execution_count": null,
   "id": "4875c81e-4419-4597-a308-b68dcea32100",
   "metadata": {},
   "outputs": [],
   "source": [
    "## command to unzip the zip file. The command is executable when you remove the hashtags\n",
    "#import shutil\n",
    "#shutil.unpack_archive('input/charmm-gui-1MAL.zip')\n",
    "#print(\"Archive file unpacked successfully.\")\n",
    "#ls input"
   ]
  },
  {
   "cell_type": "markdown",
   "id": "9f4d8d7a-512f-451f-969e-210b35d60c9e",
   "metadata": {},
   "source": [
    "What we require, though, is in a \"gromacs\" folder. Let's take a closer look:"
   ]
  },
  {
   "cell_type": "code",
   "execution_count": null,
   "id": "c43731ab-a425-484e-9746-bd0b108a213d",
   "metadata": {},
   "outputs": [],
   "source": [
    "%ls input/charmm-gui-1MAL/gromacs/"
   ]
  },
  {
   "cell_type": "markdown",
   "id": "b5af88a7-69cb-4a73-a9ad-8113a51bc3d3",
   "metadata": {},
   "source": [
    "In a prior tutorial titled [\"Introduction to Molecular Dynamics\"](https://tutorials.gromacs.org/docs/md-intro-tutorial.html), you may get an explanation for each file including structure and topology files. \n",
    "Some of these mdp files may need to be changed to fit the system as further discussed in the next section."
   ]
  },
  {
   "cell_type": "markdown",
   "id": "862d9d4c",
   "metadata": {},
   "source": [
    "Now lets create a new folder, called \"run\". Here we will perform the minimization and equilibration steps. Ensure that you are always in the correct working directory, you can use the `pwd` command, which stands for \"print working directory\". The command can be used to determine what directory you are currently working in."
   ]
  },
  {
   "cell_type": "code",
   "execution_count": null,
   "id": "1a737996",
   "metadata": {},
   "outputs": [],
   "source": [
    "# Creat working directory named run\n",
    "%mkdir run\n",
    "# Change to the directory \"run\"\n",
    "%cd run"
   ]
  },
  {
   "cell_type": "code",
   "execution_count": null,
   "id": "c727fe16",
   "metadata": {},
   "outputs": [],
   "source": [
    "# Make sure you are in the right folder. This will show you the path :) \n",
    "!pwd"
   ]
  },
  {
   "cell_type": "markdown",
   "id": "996f7d97-03b5-441f-9567-5a7814cd4b90",
   "metadata": {},
   "source": [
    "# Modified MDP files"
   ]
  },
  {
   "cell_type": "markdown",
   "id": "3559b63a-1bff-4b87-821c-cd132c820c30",
   "metadata": {},
   "source": [
    "Before starting the simulations we need the topology, parameter, and structure files. We will copy them from the `CHARMM-GUI-1MAL` folder to the `run` directory. Please note that mdp files are customized to fit the requirements of the system and they are located in the `input/mdp` folder. "
   ]
  },
  {
   "cell_type": "code",
   "execution_count": null,
   "id": "fb704015-b767-4e05-9c57-697df2475f73",
   "metadata": {},
   "outputs": [],
   "source": [
    "##copy required files to a folder\n",
    "!scp    ../input/charmm-gui-1MAL/gromacs/step5_input.gro          .\n",
    "!scp    ../input/charmm-gui-1MAL/gromacs/step5_input.pdb          .\n",
    "!scp    ../input/charmm-gui-1MAL/gromacs/topol.top                .\n",
    "!scp    ../input/charmm-gui-1MAL/gromacs/index.ndx                .\n",
    "!scp -r ../input/charmm-gui-1MAL/gromacs/toppar                   .\n",
    "#updated mdp files\n",
    "!scp    ../input/mdp/*.mdp                                        . "
   ]
  },
  {
   "cell_type": "markdown",
   "id": "0f64c6e4-32e6-409a-a173-251db0d7b5ec",
   "metadata": {},
   "source": [
    "Because GROMACS always assumes a default value for each parameter, simulations may be conducted with an entirely empty mdp file. Hence, you must double-check each option to ensure that the default settings are acceptable. If not, you can modify the mdp file. GROMACS is user-friendly and prepared an intriguing list of possibilities that is clearly explained in [mdp options webpage](https://manual.gromacs.org/current/user-guide/mdp-options.html). To make your life easier, in all mdp files of this tutorial, a small explanation is included next to each parameter."
   ]
  },
  {
   "cell_type": "markdown",
   "id": "1cfd2e2b-08fa-4536-bd59-5a675ba406e4",
   "metadata": {},
   "source": [
    "Now we have all required files to start minimization and equilibration parts:"
   ]
  },
  {
   "cell_type": "code",
   "execution_count": null,
   "id": "c80067ef-a8eb-4000-8457-04cf0e687786",
   "metadata": {},
   "outputs": [],
   "source": [
    "%ls"
   ]
  },
  {
   "cell_type": "markdown",
   "id": "01e1cf39-37fb-440d-b4ce-19f66bc1f41d",
   "metadata": {},
   "source": [
    "Lets start! Although it will take time, you can run the commands below one by one to generate files in every step. Fortunately, we have prepared output of runs ready to use if you prefer the quick route (see `input/reference` folder)."
   ]
  },
  {
   "cell_type": "markdown",
   "id": "411dd6cb-c2a0-442b-9834-4c76263bd92d",
   "metadata": {},
   "source": [
    "# Energy minimisation"
   ]
  },
  {
   "cell_type": "markdown",
   "id": "94435c5e-70b7-40d8-a82b-3b9fb5fdffd5",
   "metadata": {},
   "source": [
    "Energy minimisation (EM) is used to relax the protein-membrane system by removing steric conflicts and improper geometry, e.g. to reduce excessive forces caused by too-close particle interaction in the system. We will first generate a binary (.tpr) file which assemble the structure(.gro), topology(.top), and simulation parameters(.mdp). Then we run energy minimization using `gmx mdrun`."
   ]
  },
  {
   "cell_type": "markdown",
   "id": "f921131a",
   "metadata": {},
   "source": [
    "But first we go through the parameters in the minimization.mdp file:"
   ]
  },
  {
   "cell_type": "code",
   "execution_count": null,
   "id": "4cef13f3",
   "metadata": {},
   "outputs": [],
   "source": [
    "#revised minimization.mdp\n",
    "!cat ../input/mdp/step6.0_minimization.mdp"
   ]
  },
  {
   "cell_type": "code",
   "execution_count": null,
   "id": "f2d7d389-a0ee-41ad-a7aa-c4ad21a27523",
   "metadata": {},
   "outputs": [],
   "source": [
    "## EM-step1  > to generate binary file\n",
    "!gmx grompp -f step6.0_minimization.mdp -o minimization.tpr -c step5_input.gro  -r step5_input.gro -p topol.top"
   ]
  },
  {
   "cell_type": "markdown",
   "id": "ef309e8d-3ebd-44bc-9feb-dce16953bebd",
   "metadata": {},
   "source": [
    "**Note:** From now on, if you want to run the commands on your system consider cells labelled with an odd number `##{number]##` and remove one hashtags from each line. But, if you want to use pre-prepared outputs remove hashtags of cells with even numbers."
   ]
  },
  {
   "cell_type": "code",
   "execution_count": null,
   "id": "20f31fb5-b182-4e38-b8c5-ba595dfe2b6f",
   "metadata": {},
   "outputs": [],
   "source": [
    "##1## EM-step2 > to invoke mdrun\n",
    "#!gmx mdrun -v -deffnm minimization\n",
    "\n",
    "##The command is executable when you remove one of the hashtags"
   ]
  },
  {
   "cell_type": "markdown",
   "id": "5ec4508d-9141-43db-9a56-abeca13d78f9",
   "metadata": {},
   "source": [
    "Five files (tpr,gro,trr,edr,log) are generated after you run the minimization command. You can always find the previously prepared files for each step in the reference folder:"
   ]
  },
  {
   "cell_type": "code",
   "execution_count": null,
   "id": "45ab9999-3ac5-4780-b8a5-a57c34541d9e",
   "metadata": {},
   "outputs": [],
   "source": [
    "##2## EM-step2 > To transfer minimization output from the reference directory to working directory\n",
    "\n",
    "#!scp ../reference/minimization* .\n",
    "\n",
    "##remove one hashtag to transfer pre-prepared minimization files to working directory"
   ]
  },
  {
   "cell_type": "code",
   "execution_count": null,
   "id": "a6e9d160-b12f-4cd7-bb85-a13c7f9685b2",
   "metadata": {},
   "outputs": [],
   "source": [
    "#folder of pre-prepared outputs\n",
    "%ls minimization*"
   ]
  },
  {
   "cell_type": "markdown",
   "id": "86fb9427-28c4-4042-ab40-b352157f813d",
   "metadata": {},
   "source": [
    "Lets check if the minimization criteria are reached by looking at the last lines of the log file:"
   ]
  },
  {
   "cell_type": "code",
   "execution_count": null,
   "id": "a2202b1e-81b3-4855-800e-f984cefb73bf",
   "metadata": {},
   "outputs": [],
   "source": [
    "!tail -19 ../reference/minimization.log"
   ]
  },
  {
   "cell_type": "markdown",
   "id": "034e672b-4c48-4863-abe0-d535adca63a5",
   "metadata": {},
   "source": [
    "There are two very important factors to evaluate to determine if energy minimization was successful. The first is the potential energy (printed at the end of the EM process, even without -v). The second important feature is the maximum force, Fmax, the target for which was set in minim.mdp - “emtol = 1000.0” - indicating a target Fmax of no greater than 1000 kJ/(mol nm). It is possible to arrive at a reasonable Epot with Fmax > emtol. If this happens, your system may not be stable enough for simulation. Evaluate why it may be happening, and perhaps change your minimization parameters (integrator, emstep, etc)."
   ]
  },
  {
   "cell_type": "code",
   "execution_count": null,
   "id": "1884a7c1-8006-4d75-8e81-805b8c10412a",
   "metadata": {
    "scrolled": true
   },
   "outputs": [],
   "source": [
    "## Minimized structure\n",
    "import nglview as ng\n",
    "view = ng.show_structure_file(\"../reference/minimization.gro\")\n",
    "## Lipids\n",
    "view.add_representation(\"ball+stick\",selection=\"POPC\")\n",
    "## water\n",
    "view.add_representation(\"licorice\",selection=\"TIP3P\", opacity=0.9)\n",
    "view.center()\n",
    "view\n",
    "#Click and drag to rotate, zoom with your mouseweel \n",
    "#For more information on this viewer have a look at https://github.com/nglviewer/nglview"
   ]
  },
  {
   "cell_type": "markdown",
   "id": "8ae75633-aa57-4b55-ae08-828d1a8dc9fb",
   "metadata": {},
   "source": [
    "In alternative, remove the comment character (#) to use VMD:"
   ]
  },
  {
   "cell_type": "code",
   "execution_count": null,
   "id": "5fb5223a-064a-4df5-85b6-9b4f125067eb",
   "metadata": {},
   "outputs": [],
   "source": [
    "#!vmd ../reference/minimization.gro"
   ]
  },
  {
   "cell_type": "markdown",
   "id": "1450e6f8",
   "metadata": {},
   "source": [
    "Let’s do a bit of analysis. The minimization.edr file contains all of the energy terms that GROMACS collects during EM. To extract energy information you can use the tool `gmx energy`  "
   ]
  },
  {
   "cell_type": "code",
   "execution_count": null,
   "id": "aabfae46",
   "metadata": {},
   "outputs": [],
   "source": [
    "!printf \"Potential\\n0\\n\" | gmx energy -f minimization.edr -o potential.xvg -xvg none"
   ]
  },
  {
   "cell_type": "code",
   "execution_count": null,
   "id": "2c82d754",
   "metadata": {},
   "outputs": [],
   "source": [
    "import pandas as pd\n",
    "df = pd.read_csv('potential.xvg', sep='\\s+', header=None, names=['step','energy(kJ Mol-1)'])\n",
    "df.plot('step')"
   ]
  },
  {
   "cell_type": "markdown",
   "id": "ac115ce3",
   "metadata": {},
   "source": [
    "Note: to analyse or visualize simulation data in python or jupyter notebooks, we can output a simplified xvg format from gmx-analysis tools with the option -xvg none"
   ]
  },
  {
   "cell_type": "markdown",
   "id": "cef66e2b-9ade-4065-90f4-71b57926e633",
   "metadata": {},
   "source": [
    "# Equilibration run - NVT"
   ]
  },
  {
   "cell_type": "markdown",
   "id": "be8343a3-a7bb-4d11-b547-87ca44c305c5",
   "metadata": {},
   "source": [
    "**position restraints**"
   ]
  },
  {
   "cell_type": "markdown",
   "id": "f78f22ec-f768-4a51-bd27-14388dae7024",
   "metadata": {},
   "source": [
    "For free proteins in solution, e.g. cytosolic proteins, position restraints are not as crucial as membrane proteins, where different parts of a system must be restrained in different levels and released gradually in several steps of minimization and equilibration. Otherwise you will end up in serious problems such as undesired change in system size and conformation.\n",
    "\n",
    "To set position restraints we need to use the `define` option in the simulation parameter file, .mdp, which switch on by -DPOSRES flag. Have a look at the .mdp files for the following runs:"
   ]
  },
  {
   "cell_type": "code",
   "execution_count": null,
   "id": "295db101-21f0-4b5a-a177-99a6e9d52114",
   "metadata": {},
   "outputs": [],
   "source": [
    "!head -4 ../input/mdp/step6.1_equilibration_NVT_step1.mdp \n",
    "!head -4 ../input/mdp/step6.2_equilibration_NVT_step2.mdp\n",
    "!head -4 ../input/mdp/step6.3_equilibration_NPT_step1.mdp\n",
    "!head -4 ../input/mdp/step6.4_equilibration_NPT_step2.mdp\n",
    "!head -4 ../input/mdp/step6.5_equilibration_NPT_step3.mdp\n",
    "!head -4 ../input/mdp/step6.6_equilibration_NPT_step4.mdp\n",
    "!head -4 ../input/mdp/step7_production_revised.mdp"
   ]
  },
  {
   "cell_type": "markdown",
   "id": "8ca0bbc5-ba69-4e28-98fe-bcb580cd2b9a",
   "metadata": {},
   "source": [
    "Let's use chain A (segment PROA) as an example to demonstrate how it works. The position restrain is defined in the last part of the itp file. `DPOSRES_FC_BB` and `POSRES_FC_SC` specify the type of restrains that apply to the different part of the protein. BB stands for the potein `BackBone` and SC for the protein `Side Chains`! Please execute the command below to see the position_restraints set for chain A:"
   ]
  },
  {
   "cell_type": "code",
   "execution_count": null,
   "id": "718612c9-c6e3-4f6b-8dec-0b67bf1401c6",
   "metadata": {},
   "outputs": [],
   "source": [
    "!sed -n '59914,59932p'  ../input/charmm-gui-1MAL/gromacs/toppar/PROA.itp"
   ]
  },
  {
   "cell_type": "markdown",
   "id": "bd080020-8dcf-49b2-a4a2-3a8687647331",
   "metadata": {},
   "source": [
    "Hint: The number of atoms may be misleading. Please follow the PDB file to ensure which atoms are selected. Here you can find the atom numbers for the first two residues:"
   ]
  },
  {
   "cell_type": "code",
   "execution_count": null,
   "id": "e4a51e81-a1bb-431f-a517-7f5280ce8fbe",
   "metadata": {},
   "outputs": [],
   "source": [
    "!head -n 30 ../input/charmm-gui-1MAL/gromacs/step5_input.pdb"
   ]
  },
  {
   "cell_type": "markdown",
   "id": "7449670d-59c0-4ff7-b194-012dfc89e268",
   "metadata": {},
   "source": [
    "As you can see, the 1st and 5th atoms are N and CA protein backbone atoms of the first residue, respectively, and the value is defined by `POSRES_FC_BB` in PROA.itp file. The 7th and 9th are atom indexes of CB and CG which belong to the protein side chain and specify with `POSRES_FC_SC`. Take some moment to find the rest of the atoms and understand the concept by comparing itp and pdb files."
   ]
  },
  {
   "cell_type": "markdown",
   "id": "d8578a4d",
   "metadata": {},
   "source": [
    "The P atoms of the lipid headgroups are constrained by `DPOSRES_FC_LIPID`. As the value is only determined for the Z direction, POPC lipid molecules can only move in the X-Y plane of the bilayer, maintaining the bilayer's thickness. `i` is the atom index of the P atom of the first POPC."
   ]
  },
  {
   "cell_type": "code",
   "execution_count": null,
   "id": "8a50e8cf-d4be-43f8-9e63-0fd75d50e2ac",
   "metadata": {},
   "outputs": [],
   "source": [
    "!sed -n '1271,1276p'  ../input/charmm-gui-1MAL/gromacs/toppar/POPC.itp"
   ]
  },
  {
   "cell_type": "markdown",
   "id": "dc9a47d1-bca8-4053-8c98-c91fbfe93248",
   "metadata": {},
   "source": [
    "In POPC lipid molecules, two dihedral angles are typically restrained to preserve the cis-isomer. Here, the angles formed by C1-C3-C2-O21 and C28-C29-C210-C211 atoms are described by the atom indexes of the first POPC 25-36-28-30 and 60-63-65-67, respectively, and the value is defined by `DIHRES_FC`."
   ]
  },
  {
   "cell_type": "code",
   "execution_count": null,
   "id": "a02ad8a0-df1b-4def-b54a-58ab3b32d31e",
   "metadata": {},
   "outputs": [],
   "source": [
    "!sed -n '1278,1285p'  ../input/charmm-gui-1MAL/gromacs/toppar/POPC.itp"
   ]
  },
  {
   "cell_type": "markdown",
   "id": "c6243f30-4714-4991-86a3-991f7467cb94",
   "metadata": {},
   "source": [
    "# Equilibration run - NVT"
   ]
  },
  {
   "cell_type": "markdown",
   "id": "ab2f46da-a392-4b8d-a889-d7b7ea9f55dc",
   "metadata": {},
   "source": [
    "To perform NVT equilibration we need two steps. In each step we will remove the restrains gradually to avoid undesired change in system size and conformation.\n",
    "\n",
    "As discussed before, by removing the first hashtag (#) from the beginning of each line in odd-numbered cells, you may \"uncomment\" and execute them on your system, but be warned that it will take a while.\n",
    "As an alternative, you can transfer the pre-prepared outputs by executing even-numbered cells to be able to countinue."
   ]
  },
  {
   "cell_type": "code",
   "execution_count": null,
   "id": "4481c145-baef-4107-851e-1793aee73991",
   "metadata": {},
   "outputs": [],
   "source": [
    "##1## equilibration-NVT6.1-step1 > To run\n",
    "#!gmx grompp -f step6.1_equilibration_NVT_step1.mdp -o step6.1_equilibration_NVT_step1.tpr -c minimization.gro -r step5_input.gro -p topol.top -n index.ndx\n",
    "#!gmx mdrun -v -deffnm step6.1_equilibration_NVT_step1"
   ]
  },
  {
   "cell_type": "markdown",
   "id": "210b0b09",
   "metadata": {},
   "source": [
    "As an alternative, you can transfer the pre-prepared outputs by executing even-numbered cells to be able to countinue."
   ]
  },
  {
   "cell_type": "code",
   "execution_count": null,
   "id": "b4a751d8-8846-4aab-a994-8d18206292c3",
   "metadata": {},
   "outputs": [],
   "source": [
    "##2## equilibration-NVT6.1-step1 > To transfer\n",
    "#!scp    ../reference/step6.1_equilibration_NVT_step1*  ."
   ]
  },
  {
   "cell_type": "markdown",
   "id": "a38fc8e9",
   "metadata": {},
   "source": [
    "Now we run step 2 using results from step 1 as input "
   ]
  },
  {
   "cell_type": "code",
   "execution_count": null,
   "id": "ad013a2d-56a4-45d9-a0de-e0a9ba787673",
   "metadata": {},
   "outputs": [],
   "source": [
    "##3## equilibration-NVT6.2-step2 > To run\n",
    "#!gmx grompp -f step6.2_equilibration_NVT_step2.mdp -o step6.2_equilibration_NVT_step2.tpr -c step6.1_equilibration_NVT_step1.gro -r step5_input.gro -p topol.top -n index.ndx\n",
    "#!gmx mdrun -v -deffnm step6.2_equilibration_NVT_step2"
   ]
  },
  {
   "cell_type": "markdown",
   "id": "6dc00b3d",
   "metadata": {},
   "source": [
    "As an alternative, you can transfer the pre-prepared outputs by executing even-numbered cells to be able to countinue."
   ]
  },
  {
   "cell_type": "code",
   "execution_count": null,
   "id": "8147b2e0-b019-4748-a4d2-36996d453069",
   "metadata": {},
   "outputs": [],
   "source": [
    "##4## equilibration-NVT6.2-step2 > To transfer\n",
    "#!scp    ../reference/step6.2_equilibration_NVT_step2*  ."
   ]
  },
  {
   "cell_type": "code",
   "execution_count": null,
   "id": "f96c7b84-8ff6-4dda-b876-4ffb4decafe4",
   "metadata": {},
   "outputs": [],
   "source": [
    "#Equilibration - NVT outputs\n",
    "%ls ../reference/*NVT_step*"
   ]
  },
  {
   "cell_type": "markdown",
   "id": "3f30ca99-d3e9-4155-8409-f68f886cb3d4",
   "metadata": {},
   "source": [
    "It is crucial to evaluate every step to ensure that the simulation is going right. For this purpose, we should check the tempurature using **gmx energy** tool. To plot the data, we used python data analysis library (pandas), but there are several alternatives out there such as Xmgrace tool."
   ]
  },
  {
   "cell_type": "markdown",
   "id": "36d315b7-0c1a-4a71-8a51-d6abb2f82c31",
   "metadata": {},
   "source": [
    "**Evaluate temperature**"
   ]
  },
  {
   "cell_type": "code",
   "execution_count": null,
   "id": "bf01c4ca-2789-4305-adfa-9d691b4629d9",
   "metadata": {},
   "outputs": [],
   "source": [
    "## check the temperature > To run\n",
    "!echo 17|gmx energy -f step6.2_equilibration_NVT_step2.edr -o  NVT_S2-temp.xvg -xvg none"
   ]
  },
  {
   "cell_type": "code",
   "execution_count": null,
   "id": "7b7a05de-4638-4456-9d4f-0673e2bdf7a5",
   "metadata": {},
   "outputs": [],
   "source": [
    "import pandas as pd\n",
    "df = pd.read_csv('NVT_S2-temp.xvg', sep='\\s+', header=None, names=['time(ps)','temperature(K)'])\n",
    "df.plot('time(ps)')"
   ]
  },
  {
   "cell_type": "code",
   "execution_count": null,
   "id": "4a5ff28d-3038-4e79-ba25-0736bbf18d67",
   "metadata": {},
   "outputs": [],
   "source": [
    "##Alternative##Plotting data by Xmgrace tool\n",
    "#!xmgrace ../run/NVT_S2-temp.xvg"
   ]
  },
  {
   "cell_type": "markdown",
   "id": "92506f6e-2930-4e32-a8d5-dbf1f0fdc231",
   "metadata": {},
   "source": [
    "**Evaluate the final structure**"
   ]
  },
  {
   "cell_type": "markdown",
   "id": "6d1fb6b1-e59e-42b1-bc53-b0ee6a74bc4a",
   "metadata": {},
   "source": [
    "It is also strongly recommended to visualise the final structure of each step:"
   ]
  },
  {
   "cell_type": "code",
   "execution_count": null,
   "id": "b07b5e31-f59e-4dff-b8cd-3cb7a57c0b22",
   "metadata": {},
   "outputs": [],
   "source": [
    "import nglview as ng\n",
    "view = ng.show_structure_file(\"../reference/step6.1_equilibration_NVT_step1.gro\")\n",
    "## Lipids\n",
    "view.add_representation(\"ball+stick\",selection=\"POPC\")\n",
    "## water\n",
    "view.add_representation(\"licorice\",selection=\"TIP3P\", opacity=0.9)\n",
    "view.center()\n",
    "view\n",
    "#click and drag to rotate, zoom with your mouseweel \n",
    "#for more information on this viewer have a look at https://github.com/nglviewer/nglview"
   ]
  },
  {
   "cell_type": "code",
   "execution_count": null,
   "id": "d0eb18b2-108d-48d2-8e86-a6c194b3c4c0",
   "metadata": {},
   "outputs": [],
   "source": [
    "import nglview as ng\n",
    "view = ng.show_structure_file(\"../reference/step6.2_equilibration_NVT_step2.gro\")\n",
    "## Lipids\n",
    "view.add_representation(\"ball+stick\",selection=\"POPC\")\n",
    "## water\n",
    "view.add_representation(\"licorice\",selection=\"TIP3P\", opacity=0.9)\n",
    "view.center()\n",
    "view"
   ]
  },
  {
   "cell_type": "markdown",
   "id": "9628607d-5080-4343-8551-580fead7f211",
   "metadata": {},
   "source": [
    "**Inside the mdp files**"
   ]
  },
  {
   "cell_type": "markdown",
   "id": "b5c77689-f74d-4799-a20f-e1fc5f344e51",
   "metadata": {},
   "source": [
    "As you may realize, the mdp files for EM and NVT are not the same. The `integrator` has been updated to md:"
   ]
  },
  {
   "cell_type": "code",
   "execution_count": null,
   "id": "dff3b20f-53c4-41fb-a1f1-2b33f3d5bf9c",
   "metadata": {},
   "outputs": [],
   "source": [
    "!sed -n '8,8p'  ../input/mdp/step6.1_equilibration_NVT_step1.mdp\n",
    "!sed -n '7,7p'  ../input/mdp/step6.0_minimization.mdp"
   ]
  },
  {
   "cell_type": "markdown",
   "id": "140a0d57-7107-4c43-bd74-75dd171c7046",
   "metadata": {},
   "source": [
    "And a temperature coupling section has been added: "
   ]
  },
  {
   "cell_type": "code",
   "execution_count": null,
   "id": "1707a940-d2d5-4991-bc64-4f387300aa0d",
   "metadata": {},
   "outputs": [],
   "source": [
    "!sed -n '42,55p' ../input/mdp/step6.1_equilibration_NVT_step1.mdp"
   ]
  },
  {
   "cell_type": "code",
   "execution_count": null,
   "id": "64133e92-3d6b-46c2-aa67-730102ccf29f",
   "metadata": {},
   "outputs": [],
   "source": [
    "## For more details and compare at the entire files remove one hashtag\n",
    "#!cat ../input/mdp/step6.0_minimization.mdp\n",
    "#!cat ../input/mdp/step6.1_equilibration_NVT_step1.mdp"
   ]
  },
  {
   "cell_type": "markdown",
   "id": "0adcff98-82de-4f65-8b5a-965e45cde9bf",
   "metadata": {},
   "source": [
    "We used the v-rescale thermostat, which is the modified version of Berendsen having a stochastic term that assures the generation of a correct canonical ensemble. Sometimes you need to define groups, for instance to couple them separately. Here, SOLU_MEMB stands for protein and membrane, whereas SOLV stands for water and ions. If you're wondering about how we suggest these names, go through the index files. You can utilize pre-defined groups in the index file or even alter the index file to establish more groups if necessary. Typically, CHARMM-GUI provides five categories in the index file, as shown below:"
   ]
  },
  {
   "cell_type": "markdown",
   "id": "6ef7b625-eca8-4e93-9f64-29eeeb48216f",
   "metadata": {},
   "source": [
    "|Group  |  Index | Molecules |\n",
    "|--|--|--\n",
    "|[ SOLU ]|1-19260|protein\n",
    "|[ MEMB ]| 19261-39092|POPC\n",
    "|[ SOLV ]| 39093-99055|ions and water\n",
    "|[ SOLU_MEMB ]|1-39092|protein and POPC\n",
    "|[ SYSTEM ]| 1-99055|whole"
   ]
  },
  {
   "cell_type": "markdown",
   "id": "6f2ed98f-7d05-4eab-b73f-2bacb809b558",
   "metadata": {},
   "source": [
    "The interpretation of this information is as follows:"
   ]
  },
  {
   "cell_type": "code",
   "execution_count": null,
   "id": "c68d1c88-0819-4e3a-bfe4-bb78d2095a8a",
   "metadata": {},
   "outputs": [],
   "source": [
    "!printf \"q\\n\" | gmx make_ndx -f step5_input.gro -n index.ndx -o"
   ]
  },
  {
   "cell_type": "markdown",
   "id": "30242022-e518-4f9f-9f3b-da1d786ee78b",
   "metadata": {},
   "source": [
    "You may also notice a variation in values if you look at the first lines of NVT mdp files. The sole difference between the prior stage (step6.1_equilibration_NVT_step1) and the final stage of NVT (step6.2_equilibration_NVT_step2) is that position restrains are gradually decreased and relaxed:"
   ]
  },
  {
   "cell_type": "code",
   "execution_count": null,
   "id": "da74c815-279f-4a82-ab74-fc6f500f9a6f",
   "metadata": {},
   "outputs": [],
   "source": [
    "!head -6 ../input/mdp/step6.1_equilibration_NVT_step1.mdp\n",
    "!head -4 ../input/mdp/step6.2_equilibration_NVT_step2.mdp"
   ]
  },
  {
   "cell_type": "markdown",
   "id": "c5fd2e9d-745d-4149-a91e-459e6541f97b",
   "metadata": {},
   "source": [
    "# Equilibration run - NPT"
   ]
  },
  {
   "cell_type": "markdown",
   "id": "f905fde0-17e2-4374-8256-62fbf2d1c136",
   "metadata": {},
   "source": [
    "Pressure equilibration takes place in an NPT ensemble. To keep the pressure stable, we turn the barostat on. We chose the semisotropic pressure coupling, which is isotropic in the x and y directions but not in the z, and is suitable for membrane simulations. Because Berendsen Barostat is outdated and Parrinello-Rahman is better to utilize 'only' in production runs when the structure is 'properly equilibrated', the c-rescale algorithm is appropriate for this part:\n",
    "\n",
    "**Pressure coupling is on** \n",
    "\n",
    "pcoupl                  = c-rescale        \n",
    "\n",
    "pcoupltype              = semiisotropic  \n",
    "\n",
    "tau_p                   = 5.0        \n",
    "\n",
    "compressibility         = 4.5e-5  4.5e-5 \n",
    "\n",
    "ref_p                   = 1.0     1.0  \n",
    "\n",
    "refcoord_scaling        = com\n",
    "\n",
    "In order to minimize unintended changes in system size and conformation, NPT equilibration is carried out in four phases, with each step including a progressive removal of restraint."
   ]
  },
  {
   "cell_type": "code",
   "execution_count": null,
   "id": "39c9fce4-588b-486c-ac3f-6da9049f9d59",
   "metadata": {},
   "outputs": [],
   "source": [
    "##9## equilibration-NPT6.3-step1 > To run\n",
    "#!gmx grompp -f step6.3_equilibration_NPT_step1.mdp -o step6.3_equilibration_NPT_step1.tpr -c step6.2_equilibration_NVT_step2.gro -r step5_input.gro -p topol.top -n index.ndx\n",
    "#!gmx mdrun -v -deffnm step6.3_equilibration_NPT_step1"
   ]
  },
  {
   "cell_type": "markdown",
   "id": "e5567172",
   "metadata": {},
   "source": [
    "In alternative:"
   ]
  },
  {
   "cell_type": "code",
   "execution_count": null,
   "id": "7bf78a1d-109c-4aa6-a3bf-6be08551d56e",
   "metadata": {},
   "outputs": [],
   "source": [
    "##10## equilibration-NPT6.3-step1 > To transfer\n",
    "#!scp    ../reference/step6.3_equilibration_NPT_step1*  ."
   ]
  },
  {
   "cell_type": "markdown",
   "id": "7d1044a4-0317-4a40-a066-78f9ae203f8a",
   "metadata": {},
   "source": [
    "In the next phases, we gradually reduce the constraints:"
   ]
  },
  {
   "cell_type": "code",
   "execution_count": null,
   "id": "ac0265b5-6406-475f-a9b2-d543fb0e532f",
   "metadata": {},
   "outputs": [],
   "source": [
    "##11## equilibration-NPT6.4-step2 > To run\n",
    "#!gmx grompp -f step6.4_equilibration_NPT_step2.mdp -o step6.4_equilibration_NPT_step2.tpr -c step6.3_equilibration_NPT_step1.gro -r step5_input.gro -p topol.top -n index.ndx\n",
    "#!gmx mdrun -v -deffnm step6.4_equilibration_NPT_step2"
   ]
  },
  {
   "cell_type": "markdown",
   "id": "22e2b042",
   "metadata": {},
   "source": [
    "In alternative:"
   ]
  },
  {
   "cell_type": "code",
   "execution_count": null,
   "id": "0c04a446-b4b2-4b4f-aa41-746cfbe38f3a",
   "metadata": {},
   "outputs": [],
   "source": [
    "##12## equilibration-NPT6.4-step2 > To transfer\n",
    "#!scp    ../reference/step6.4_equilibration_NPT_step2*  ."
   ]
  },
  {
   "cell_type": "code",
   "execution_count": null,
   "id": "b2f0d55b-e040-41ec-9c9e-f1a83c7bfd32",
   "metadata": {},
   "outputs": [],
   "source": [
    "##13## equilibration-NPT6.5-step3 > To run\n",
    "#!gmx grompp -f step6.5_equilibration_NPT_step3.mdp -o step6.5_equilibration_NPT_step3.tpr -c step6.4_equilibration_NPT_step2.gro -r step5_input.gro -p topol.top -n index.ndx\n",
    "#!gmx mdrun -v -deffnm step6.5_equilibration_NPT_step3"
   ]
  },
  {
   "cell_type": "markdown",
   "id": "c9e20c99",
   "metadata": {},
   "source": [
    "In alternative:"
   ]
  },
  {
   "cell_type": "code",
   "execution_count": null,
   "id": "9ee324c3-c729-4c9d-ab4f-0a191d037055",
   "metadata": {},
   "outputs": [],
   "source": [
    "##14## equilibration-NPT6.5-step3 > To transfer\n",
    "#!scp    ../reference/step6.5_equilibration_NPT_step3*  ."
   ]
  },
  {
   "cell_type": "code",
   "execution_count": null,
   "id": "3da71129",
   "metadata": {},
   "outputs": [],
   "source": [
    "##15## equilibration-NPT6.6-step4 > To run\n",
    "#!gmx grompp -f step6.6_equilibration_NPT_step4.mdp -o step6.6_equilibration_NPT_step4.tpr -c step6.5_equilibration_NPT_step3.gro -r step5_input.gro -p topol.top -n index.ndx\n",
    "#!gmx mdrun -v -deffnm step6.6_equilibration_NPT_step4"
   ]
  },
  {
   "cell_type": "markdown",
   "id": "6d384978",
   "metadata": {},
   "source": [
    "In alternative:"
   ]
  },
  {
   "cell_type": "code",
   "execution_count": null,
   "id": "bbb33b64-74f4-44e5-8857-24cf349507e5",
   "metadata": {},
   "outputs": [],
   "source": [
    "##16## equilibration-NPT6.6-step4 > To transfer\n",
    "#!scp    ../reference/step6.6_equilibration_NPT_step4*  ."
   ]
  },
  {
   "cell_type": "markdown",
   "id": "e451906b-20f3-410d-a421-937c7bc39c06",
   "metadata": {},
   "source": [
    "Here you can find the output of NPT steps:"
   ]
  },
  {
   "cell_type": "code",
   "execution_count": null,
   "id": "4fe1ac1c-bc01-465c-9544-e5ae1dab2526",
   "metadata": {},
   "outputs": [],
   "source": [
    "##Equilibration - NPT outputs\n",
    "%ls ../reference/*NPT_step*"
   ]
  },
  {
   "cell_type": "markdown",
   "id": "07a6bf40-e489-446c-a82e-6839afad7def",
   "metadata": {},
   "source": [
    "**Evaluate the Pressure**"
   ]
  },
  {
   "cell_type": "markdown",
   "id": "6dba516a-b7c8-4f79-84f1-41a9bebd54f4",
   "metadata": {},
   "source": [
    "`Attention`! I hope you have not forget to evaluate the temperature in each step so far. In NPT equilibration steps, we need to check at extra parameter, `pressure`:"
   ]
  },
  {
   "cell_type": "code",
   "execution_count": null,
   "id": "934d6863-560a-489e-9b00-c2bc7f056393",
   "metadata": {},
   "outputs": [],
   "source": [
    "## check the pressure > To run\n",
    "!echo 18|gmx energy -f step6.6_equilibration_NPT_step4.edr -o  NPT_S4_Press.xvg -xvg none"
   ]
  },
  {
   "cell_type": "code",
   "execution_count": null,
   "id": "96412922-7bfc-43c0-9fa2-c81c0d547781",
   "metadata": {},
   "outputs": [],
   "source": [
    "import pandas as pd\n",
    "import statistics\n",
    "df = pd.read_csv('NPT_S4_Press.xvg', sep='\\s+', header=None, names=['time(ps)','pressure(bar)'])\n",
    "df.plot('time(ps)')"
   ]
  },
  {
   "cell_type": "code",
   "execution_count": null,
   "id": "ef340bf8-797b-4de8-80b7-a35058e38189",
   "metadata": {},
   "outputs": [],
   "source": [
    "##Alternative##Plotting data by Xmgrace tool\n",
    "#!xmgrace NPT_S4_Press.xvg"
   ]
  },
  {
   "cell_type": "markdown",
   "id": "c35d956b-cb12-462a-b3ee-4171d0fc9c2c",
   "metadata": {},
   "source": [
    "As you can see, pressure fluctuate more than temprature which is totally ok :)\n",
    "\n",
    "The system's temperature should rises to the desired level (~303 K) and stay steady for the rest of the equilibration. While, pressure is the parameter which fluctuates alot during the MD simulation, and its average should be statistically comparable with the pre-defined pressure (1 bar)."
   ]
  },
  {
   "cell_type": "markdown",
   "id": "d40e0d53-dfd0-476d-8015-50058c9bfa0f",
   "metadata": {},
   "source": [
    "# Production\n",
    "**Invoke mdrun for production (one single simulation)**"
   ]
  },
  {
   "cell_type": "markdown",
   "id": "e3a79098-119a-49e9-8661-1d70791ee9be",
   "metadata": {},
   "source": [
    "The system is now properly equilibrated and reached the appropriate temperature and pressure. The position restrictions may now be lifted, to start the production MD and begin data gathering.For production run, we will first generate the `binary tpr` filr using the following mdp parameters:"
   ]
  },
  {
   "cell_type": "code",
   "execution_count": null,
   "id": "4fda5024",
   "metadata": {},
   "outputs": [],
   "source": [
    "!cat step7_production_revised.mdp"
   ]
  },
  {
   "cell_type": "code",
   "execution_count": null,
   "id": "ccd90ac7-2203-494c-8adf-0286487c3107",
   "metadata": {},
   "outputs": [],
   "source": [
    "##19.1## step7-production > To run\n",
    "##generate tpr file\n",
    "#!gmx grompp -f step7_production_revised.mdp -o step7_production.tpr -c step6.6_equilibration_NPT_step4.gro -t step6.6_equilibration_NPT_step4.cpt -p topol.top -n index.ndx"
   ]
  },
  {
   "cell_type": "markdown",
   "id": "caefc2eb-532e-42cc-9810-384bec672061",
   "metadata": {},
   "source": [
    "The completion of a production run (cell 19.2) might take hours or days. Dont execute this command here and try it on the terminal of the system you choose to perform the simulation.\n",
    "\n",
    "**!Warning:** This run will generate roughly 9028 Mb of data"
   ]
  },
  {
   "cell_type": "code",
   "execution_count": null,
   "id": "ebd36b2d-5a74-4c5a-b437-7e48776aa226",
   "metadata": {},
   "outputs": [],
   "source": [
    "##19.2## step7-production(one single simulation) > To run\n",
    "#!gmx mdrun -s step7_production -cpi"
   ]
  },
  {
   "cell_type": "markdown",
   "id": "a246e457-5df1-4821-9217-2d583052deac",
   "metadata": {},
   "source": [
    "A 100ns simulation was performed. Every 30000 of the 50000000 steps were recorded as the trajectory frames. The trr file is compressed into an xtc file. \n",
    "For convenience, we saved every 100 frames of the final trajectory and put the outputs in the reference folder."
   ]
  },
  {
   "cell_type": "code",
   "execution_count": null,
   "id": "09d95d94-d558-47de-a8be-2db86c67a845",
   "metadata": {},
   "outputs": [],
   "source": [
    "##20## step7-production > To transfer\n",
    "#!scp    ../reference/step7_production*  ."
   ]
  },
  {
   "cell_type": "code",
   "execution_count": null,
   "id": "0a81f5cc-72b4-4a8f-837e-e7a0b59e0533",
   "metadata": {},
   "outputs": [],
   "source": [
    "##step7-production outputs\n",
    "%ls *step7_production*"
   ]
  },
  {
   "cell_type": "markdown",
   "id": "c3b073bd-488f-4b7d-b3b1-54cc8e52e1fc",
   "metadata": {},
   "source": [
    "**Visualize the final structure**"
   ]
  },
  {
   "cell_type": "code",
   "execution_count": null,
   "id": "6b3e59dd-ad4a-4fd7-ad33-1ceaaba4739b",
   "metadata": {},
   "outputs": [],
   "source": [
    "import nglview as ng\n",
    "view = ng.show_structure_file(\"../reference/step7_production.gro\")\n",
    "## Lipids\n",
    "view.add_representation(\"spacefill\",selection=\"POPC\", opacity=0.5)\n",
    "## to see water box uncommand below:\n",
    "#view.add_representation(\"spacefill\",selection=\"TIP3P\")\n",
    "view.center()\n",
    "view"
   ]
  },
  {
   "cell_type": "markdown",
   "id": "2c504b19-46c7-41f2-a641-dbed175f7646",
   "metadata": {},
   "source": [
    "**************************** \n",
    "**HINT**\n",
    "**How to generate replicas?**\n",
    "You may need more than one replica. You can generate several tpr file using random seed option for the velocity and temperature in the 'mdp' file. \n",
    "\n",
    "**How to run several replicas?**\n",
    "You dont need to perform simulations separately, because GROMACS has a simple solution for that:\n",
    "   \n",
    "**step 1:** make folders (here we set four replicas) ***#mkdir Rep1 Rep2 Rep3 Rep4*** \n",
    "      \n",
    "**step 2:** copy each tpr file in a different folder and execute mdrun by command below:\n",
    "***#mpirun -np 4 gmx_mpi mdrun -v -s step7_production.tpr -multidir Rep1 Rep2 Rep3 Rep4 -cpi***\n",
    "\n",
    "      \n",
    "****************************\n",
    "**Quiz**\n",
    "Why we need to run several replicas? Do you know how they differ from one another? Exactly the same?"
   ]
  },
  {
   "cell_type": "markdown",
   "id": "fadf8868-a762-425f-be1f-5da5521a8ba4",
   "metadata": {},
   "source": [
    "# Analysis"
   ]
  },
  {
   "cell_type": "markdown",
   "id": "e3bec6fd-efd8-49d8-8522-0acb207bfaee",
   "metadata": {},
   "source": [
    " **RMSD analysis**"
   ]
  },
  {
   "cell_type": "code",
   "execution_count": null,
   "id": "c93a232f-24ab-4a50-980c-cb8de55b623b",
   "metadata": {},
   "outputs": [],
   "source": [
    "!echo 4 4 |gmx rms -s step7_production.tpr -f step7_production_traj_comp_skip100.xtc -o production_rmsd.xvg -bin production.rmsd.dat -tu ns -fit rot+trans -xvg none"
   ]
  },
  {
   "cell_type": "code",
   "execution_count": null,
   "id": "a438e7a2-3b03-4804-8262-540f8276b4de",
   "metadata": {},
   "outputs": [],
   "source": [
    "import pandas as pd\n",
    "df = pd.read_csv('production_rmsd.xvg', sep='\\s+', header=None, names=['time(ns)','RMSD(nm)'])\n",
    "df.plot('time(ns)') "
   ]
  },
  {
   "cell_type": "markdown",
   "id": "c9355f7e",
   "metadata": {},
   "source": [
    "The root mean square deviation (RMSD) is a practical parameter to compare the backbones of a protein from its initial to final state, which illustrates the dynamics of structure during the simulation. Here, the protein structure is pretty stable and fluctuates within expected margins(1-2 Å)."
   ]
  },
  {
   "cell_type": "code",
   "execution_count": null,
   "id": "40a77e3b-acd5-410b-876a-a669efb47dbb",
   "metadata": {},
   "outputs": [],
   "source": [
    "##Alternative##Plotting data by Xmgrace tool\n",
    "#!xmgrace production_rmsd.xvg"
   ]
  },
  {
   "cell_type": "markdown",
   "id": "afab07f4-73d1-44d5-895d-5566835524be",
   "metadata": {},
   "source": [
    "**Energy**"
   ]
  },
  {
   "cell_type": "code",
   "execution_count": null,
   "id": "e07b77fa-a05e-4a14-a222-df17e57ff573",
   "metadata": {},
   "outputs": [],
   "source": [
    "##check the energy\n",
    "!echo 13|gmx energy -f step7_production.edr -o production_Etot.xvg -xvg none"
   ]
  },
  {
   "cell_type": "code",
   "execution_count": null,
   "id": "ac26fa94-b45a-4c40-a213-6cf4b879392a",
   "metadata": {},
   "outputs": [],
   "source": [
    "import pandas as pd\n",
    "df = pd.read_csv('production_Etot.xvg', sep='\\s+', header=None, names=['time(ps)','Energy(kJ mol-1)'])\n",
    "df.plot('time(ps)')"
   ]
  },
  {
   "cell_type": "code",
   "execution_count": null,
   "id": "29f0030b-1c71-45fd-a0d6-b0bd0ea1680b",
   "metadata": {},
   "outputs": [],
   "source": [
    "##Alternative##Plotting data by Xmgrace tool\n",
    "#!xmgrace production_Etot.xvg"
   ]
  },
  {
   "cell_type": "markdown",
   "id": "bbabe7c2-a1d5-4996-8a50-1c2ffd7e910c",
   "metadata": {},
   "source": [
    "**Tempurature**"
   ]
  },
  {
   "cell_type": "code",
   "execution_count": null,
   "id": "ae1c95dd-61d9-45ef-8803-b74f1642d0ea",
   "metadata": {},
   "outputs": [],
   "source": [
    "#check the tempurature\n",
    "!echo 15|gmx energy -f step7_production.edr -o  production_temp.xvg -xvg none"
   ]
  },
  {
   "cell_type": "code",
   "execution_count": null,
   "id": "73b26efe-f2dd-4628-b0ad-65a350b23aa6",
   "metadata": {},
   "outputs": [],
   "source": [
    "import pandas as pd\n",
    "df = pd.read_csv('production_temp.xvg', sep='\\s+', header=None, names=['time(ps)','Temperature*(K)'])\n",
    "df.plot('time(ps)')"
   ]
  },
  {
   "cell_type": "code",
   "execution_count": null,
   "id": "0c26dcfc-c827-4dd2-8ed2-478c33823988",
   "metadata": {},
   "outputs": [],
   "source": [
    "##Alternative##Plotting data by Xmgrace tool\n",
    "#!xmgrace production_temp.xvg"
   ]
  },
  {
   "cell_type": "markdown",
   "id": "81c2c2e8-287c-4d60-8cb1-f829a9569f51",
   "metadata": {},
   "source": [
    "**Pressure**"
   ]
  },
  {
   "cell_type": "code",
   "execution_count": null,
   "id": "cadf8000-613a-43d2-bbb5-422b634f3c9a",
   "metadata": {},
   "outputs": [],
   "source": [
    "#check the pressure\n",
    "!echo 16|gmx energy -f step7_production.edr -o production_press.xvg -xvg none"
   ]
  },
  {
   "cell_type": "code",
   "execution_count": null,
   "id": "9a731e5b-efdd-4ea0-822c-57a762bd2c62",
   "metadata": {},
   "outputs": [],
   "source": [
    "import pandas as pd\n",
    "df = pd.read_csv('production_press.xvg', sep='\\s+', header=None, names=['time(ps)','Pressure(bar)'])\n",
    "df.plot('time(ps)')"
   ]
  },
  {
   "cell_type": "code",
   "execution_count": null,
   "id": "9356d263-178b-4992-ab40-d4715086c13d",
   "metadata": {},
   "outputs": [],
   "source": [
    "##Alternative##Plotting data by Xmgrace tool\n",
    "#!xmgrace production_press.xvg"
   ]
  },
  {
   "cell_type": "markdown",
   "id": "de96b215-f01c-426a-9c44-20af75b3f81f",
   "metadata": {},
   "source": [
    "**Trajectory Visualization**"
   ]
  },
  {
   "cell_type": "code",
   "execution_count": null,
   "id": "34cc9be4-06ca-4418-b9b1-02f43d80a940",
   "metadata": {},
   "outputs": [],
   "source": [
    "import nglview as ng\n",
    "import mdtraj as md\n",
    "trajectory = md.load(\"step7_production_traj_comp_skip100.xtc\", top=\"step5_input.pdb\")\n",
    "view = ng.show_mdtraj(trajectory)\n",
    "view.clear()\n",
    "view.add_cartoon('protein',color_scheme='residueindex')\n",
    "view"
   ]
  },
  {
   "cell_type": "markdown",
   "id": "c1c69e6e-96f5-46d7-832f-123bf3226b5f",
   "metadata": {},
   "source": [
    "Now, place the mouse cursor over the protein press the play button. You will see the protein  wiggling and jiggling!"
   ]
  },
  {
   "cell_type": "code",
   "execution_count": null,
   "id": "676f82d9-0cb5-49bd-890e-8f0007d89bcc",
   "metadata": {},
   "outputs": [],
   "source": [
    "view.clear()\n",
    "view.add_cartoon('protein',color_scheme='residueindex')\n",
    "view.add_spacefill('not TIP and not protein', opacity=0.6)\n",
    "view.center()\n",
    "view.camera = 'orthographic'\n",
    "view"
   ]
  },
  {
   "cell_type": "markdown",
   "id": "1d43c4a9-faf6-4db7-bf38-8a315a911214",
   "metadata": {},
   "source": [
    "In this Part, lipids (gray and red spheres), and ions (green and purpule spheres) are illustrated. You can find the name of the atoms by simply placing the cursor on it. Try to find chloride ions."
   ]
  },
  {
   "cell_type": "markdown",
   "id": "4b9f1b95-9da7-4b86-8a34-a5631da3b79a",
   "metadata": {},
   "source": [
    "Easy ha? Now try the tutorial on your protein and let us know if it is useful.\n",
    "if you have any question write in the forum and we will answer as soon as possible: [http://forums.gromacs.org](http://forums.gromacs.org)"
   ]
  },
  {
   "cell_type": "markdown",
   "id": "5704e8d1-b8c6-4e33-bac4-65d1b58405d8",
   "metadata": {},
   "source": [
    "*References*\n",
    "1. "
   ]
  }
 ],
 "metadata": {
  "kernelspec": {
   "display_name": "Python 3 (ipykernel)",
   "language": "python",
   "name": "python3"
  },
  "language_info": {
   "codemirror_mode": {
    "name": "ipython",
    "version": 3
   },
   "file_extension": ".py",
   "mimetype": "text/x-python",
   "name": "python",
   "nbconvert_exporter": "python",
   "pygments_lexer": "ipython3",
   "version": "3.11.4"
  }
 },
 "nbformat": 4,
 "nbformat_minor": 5
}
